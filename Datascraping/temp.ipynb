{
 "cells": [
  {
   "cell_type": "code",
   "execution_count": 2,
   "metadata": {},
   "outputs": [],
   "source": [
    "import pandas as pd\n",
    "import os"
   ]
  },
  {
   "cell_type": "code",
   "execution_count": 3,
   "metadata": {},
   "outputs": [],
   "source": [
    "\n",
    "def sep_tables(file_path):\n",
    "    output_file_path = 'output_excel_file.xlsx'\n",
    "\n",
    "    # Read the Excel file\n",
    "    df = pd.read_excel(file_path)\n",
    "\n",
    "    # Initialize an Excel writer\n",
    "    writer = pd.ExcelWriter(output_file_path, engine='xlsxwriter')\n",
    "\n",
    "    # Function to count the number of non-empty cells in a row\n",
    "    def count_non_empty_cells(row):\n",
    "        return sum(1 for cell in row if pd.notnull(cell))\n",
    "\n",
    "    # Find and save each table to a separate sheet\n",
    "    table_num = 1\n",
    "    start_row = None\n",
    "    prev_row_length = None\n",
    "    for i in range(len(df)):\n",
    "        row = df.iloc[i]\n",
    "        # Count the number of non-empty cells in the row\n",
    "        row_length = count_non_empty_cells(row)\n",
    "        # If it's the start of a new table\n",
    "        if start_row is None:\n",
    "            start_row = i\n",
    "        # If the row length changes or it's the last row\n",
    "        if row_length != prev_row_length or i == len(df) - 1:\n",
    "            # End of current table\n",
    "            end_row = i-1\n",
    "            # Extract the table block\n",
    "            table_block = df.iloc[start_row:end_row+1]\n",
    "            # Write the table to a new sheet\n",
    "            table_block.to_excel(writer, sheet_name=f'Table_{table_num}', index=False, header=False)\n",
    "            # Increment table number\n",
    "            table_num += 1\n",
    "            # Update start_row for next table\n",
    "            start_row = i\n",
    "        # Update the previous row length\n",
    "        prev_row_length = row_length\n",
    "\n",
    "    # Close the Excel writer\n",
    "    writer.close()\n",
    "    return 'output_excel_file.xlsx'"
   ]
  },
  {
   "cell_type": "code",
   "execution_count": 6,
   "metadata": {},
   "outputs": [
    {
     "name": "stdout",
     "output_type": "stream",
     "text": [
      "National Institute of Technology, Raipur_tables.xlsx\n"
     ]
    },
    {
     "ename": "SyntaxError",
     "evalue": "Missing parentheses in call to 'print'. Did you mean print(...)? (__init__.py, line 1187)",
     "output_type": "error",
     "traceback": [
      "Traceback \u001b[0;36m(most recent call last)\u001b[0m:\n",
      "\u001b[0m  File \u001b[1;32m~/.local/lib/python3.10/site-packages/IPython/core/interactiveshell.py:3442\u001b[0m in \u001b[1;35mrun_code\u001b[0m\n    exec(code_obj, self.user_global_ns, self.user_ns)\u001b[0m\n",
      "\u001b[0m  Cell \u001b[1;32mIn[6], line 12\u001b[0m\n    file_path = sep_tables(file_path1)\u001b[0m\n",
      "\u001b[0m  Cell \u001b[1;32mIn[3], line 5\u001b[0m in \u001b[1;35msep_tables\u001b[0m\n    df = pd.read_excel(file_path)\u001b[0m\n",
      "\u001b[0m  File \u001b[1;32m~/.local/lib/python3.10/site-packages/pandas/util/_decorators.py:311\u001b[0m in \u001b[1;35mwrapper\u001b[0m\n    return func(*args, **kwargs)\u001b[0m\n",
      "\u001b[0m  File \u001b[1;32m~/.local/lib/python3.10/site-packages/pandas/io/excel/_base.py:457\u001b[0m in \u001b[1;35mread_excel\u001b[0m\n    io = ExcelFile(io, storage_options=storage_options, engine=engine)\u001b[0m\n",
      "\u001b[0m  File \u001b[1;32m~/.local/lib/python3.10/site-packages/pandas/io/excel/_base.py:1363\u001b[0m in \u001b[1;35m__init__\u001b[0m\n    if import_optional_dependency(\"xlrd\", errors=\"ignore\") is None:\u001b[0m\n",
      "\u001b[0m  File \u001b[1;32m~/.local/lib/python3.10/site-packages/pandas/compat/_optional.py:138\u001b[0m in \u001b[1;35mimport_optional_dependency\u001b[0m\n    module = importlib.import_module(name)\u001b[0m\n",
      "\u001b[0m  File \u001b[1;32m/usr/lib/python3.10/importlib/__init__.py:126\u001b[0m in \u001b[1;35mimport_module\u001b[0m\n    return _bootstrap._gcd_import(name[level:], package, level)\u001b[0m\n",
      "\u001b[0m  File \u001b[1;32m<frozen importlib._bootstrap>:1050\u001b[0m in \u001b[1;35m_gcd_import\u001b[0m\n",
      "\u001b[0m  File \u001b[1;32m<frozen importlib._bootstrap>:1027\u001b[0m in \u001b[1;35m_find_and_load\u001b[0m\n",
      "\u001b[0m  File \u001b[1;32m<frozen importlib._bootstrap>:1006\u001b[0m in \u001b[1;35m_find_and_load_unlocked\u001b[0m\n",
      "\u001b[0m  File \u001b[1;32m<frozen importlib._bootstrap>:688\u001b[0m in \u001b[1;35m_load_unlocked\u001b[0m\n",
      "\u001b[0m  File \u001b[1;32m<frozen importlib._bootstrap_external>:879\u001b[0m in \u001b[1;35mexec_module\u001b[0m\n",
      "\u001b[0m  File \u001b[1;32m<frozen importlib._bootstrap_external>:1017\u001b[0m in \u001b[1;35mget_code\u001b[0m\n",
      "\u001b[0m  File \u001b[1;32m<frozen importlib._bootstrap_external>:947\u001b[0m in \u001b[1;35msource_to_code\u001b[0m\n",
      "\u001b[0;36m  File \u001b[0;32m<frozen importlib._bootstrap>:241\u001b[0;36m in \u001b[0;35m_call_with_frames_removed\u001b[0;36m\n",
      "\u001b[0;36m  File \u001b[0;32m~/.local/lib/python3.10/site-packages/xlrd/__init__.py:1187\u001b[0;36m\u001b[0m\n\u001b[0;31m    print \"EXTERNSHEET(b7-):\"\u001b[0m\n\u001b[0m    ^\u001b[0m\n\u001b[0;31mSyntaxError\u001b[0m\u001b[0;31m:\u001b[0m Missing parentheses in call to 'print'. Did you mean print(...)?\n"
     ]
    }
   ],
   "source": [
    "\n",
    "# Path to the folder containing Excel files\n",
    "folder_path = './output_excel_files_new'\n",
    "\n",
    "# Initialize an empty dictionary to store data from all sheets of all files\n",
    "all_sheets_dict = {}\n",
    "\n",
    "# Iterate over all files in the folder\n",
    "for file_name in os.listdir(folder_path)[1:2]:\n",
    "    if file_name.endswith('.xlsx'):  # Assuming all files are Excel files\n",
    "        print(file_name)\n",
    "        file_path1 = os.path.join(folder_path, file_name)\n",
    "        file_path = sep_tables(file_path1)\n",
    "        \n",
    "        \n",
    "        # Read all sheets of the current file into a dictionary\n",
    "        sheets_dict = pd.read_excel(file_path, sheet_name=None, engine='openpyxl')\n",
    "\n",
    "        \n",
    "        # Merge the current sheets into the main dictionary\n",
    "        all_sheets_dict.update(sheets_dict)"
   ]
  },
  {
   "cell_type": "code",
   "execution_count": 125,
   "metadata": {},
   "outputs": [],
   "source": [
    "name_of_class = []\n",
    "no_of_male_students = []\n",
    "no_of_female_students = []\n",
    "no_of_total_students = []\n",
    "within_state_students = []\n",
    "outside_state_students = []\n",
    "outside_country_students = []\n",
    "economically_backward_students = []\n",
    "socially_challenged_students = []\n",
    "full_tuitionfee_reimburse_gov = []\n",
    "full_tuitionfee_reimburse_institution = []\n",
    "full_tuitionfee_reimburse_private = []\n",
    "full_tuitionfee_not_reimburse = []"
   ]
  },
  {
   "cell_type": "code",
   "execution_count": 126,
   "metadata": {},
   "outputs": [
    {
     "data": {
      "text/html": [
       "<div>\n",
       "<style scoped>\n",
       "    .dataframe tbody tr th:only-of-type {\n",
       "        vertical-align: middle;\n",
       "    }\n",
       "\n",
       "    .dataframe tbody tr th {\n",
       "        vertical-align: top;\n",
       "    }\n",
       "\n",
       "    .dataframe thead th {\n",
       "        text-align: right;\n",
       "    }\n",
       "</style>\n",
       "<table border=\"1\" class=\"dataframe\">\n",
       "  <thead>\n",
       "    <tr style=\"text-align: right;\">\n",
       "      <th></th>\n",
       "      <th>(All programs_x000D_of all years)</th>\n",
       "      <th>No. of Male_x000D_Students</th>\n",
       "      <th>No. of Female_x000D_Students</th>\n",
       "      <th>Total Students</th>\n",
       "      <th>Within State_x000D_(Including male_x000D_&amp; female)</th>\n",
       "      <th>Outside State_x000D_(Including male_x000D_&amp; female)</th>\n",
       "      <th>Outside_x000D_Country_x000D_(Including male_x000D_&amp; female)</th>\n",
       "      <th>Economically_x000D_Backward_x000D_(Including male_x000D_&amp; female)</th>\n",
       "      <th>Socially_x000D_Challenged_x000D_(SC+ST+OBC_x000D_Including male_x000D_&amp; female)</th>\n",
       "      <th>No. of students_x000D_receiving full_x000D_tuition fee_x000D_reimbursement_x000D_from the State_x000D_and Central_x000D_Government</th>\n",
       "      <th>No. of students_x000D_receiving full_x000D_tuition fee_x000D_reimbursement_x000D_from Institution_x000D_Funds</th>\n",
       "      <th>No. of students_x000D_receiving full_x000D_tuition fee_x000D_reimbursement_x000D_from the Private_x000D_Bodies</th>\n",
       "      <th>No. of students_x000D_who are not_x000D_receiving full_x000D_tuition fee_x000D_reimbursement</th>\n",
       "    </tr>\n",
       "  </thead>\n",
       "  <tbody>\n",
       "    <tr>\n",
       "      <th>0</th>\n",
       "      <td>UG [3 Years_x000D_Program(s)]</td>\n",
       "      <td>3558</td>\n",
       "      <td>1282</td>\n",
       "      <td>4840</td>\n",
       "      <td>4840</td>\n",
       "      <td>0</td>\n",
       "      <td>0</td>\n",
       "      <td>0</td>\n",
       "      <td>855</td>\n",
       "      <td>855</td>\n",
       "      <td>0</td>\n",
       "      <td>0</td>\n",
       "      <td>0</td>\n",
       "    </tr>\n",
       "    <tr>\n",
       "      <th>1</th>\n",
       "      <td>PG [2 Year_x000D_Program(s)]</td>\n",
       "      <td>145</td>\n",
       "      <td>136</td>\n",
       "      <td>281</td>\n",
       "      <td>281</td>\n",
       "      <td>0</td>\n",
       "      <td>0</td>\n",
       "      <td>0</td>\n",
       "      <td>43</td>\n",
       "      <td>43</td>\n",
       "      <td>0</td>\n",
       "      <td>0</td>\n",
       "      <td>0</td>\n",
       "    </tr>\n",
       "  </tbody>\n",
       "</table>\n",
       "</div>"
      ],
      "text/plain": [
       "  (All programs_x000D_of all years)  No. of Male_x000D_Students  \\\n",
       "0     UG [3 Years_x000D_Program(s)]                        3558   \n",
       "1      PG [2 Year_x000D_Program(s)]                         145   \n",
       "\n",
       "   No. of Female_x000D_Students  Total Students  \\\n",
       "0                          1282            4840   \n",
       "1                           136             281   \n",
       "\n",
       "   Within State_x000D_(Including male_x000D_& female)  \\\n",
       "0                                               4840    \n",
       "1                                                281    \n",
       "\n",
       "   Outside State_x000D_(Including male_x000D_& female)  \\\n",
       "0                                                  0     \n",
       "1                                                  0     \n",
       "\n",
       "   Outside_x000D_Country_x000D_(Including male_x000D_& female)  \\\n",
       "0                                                  0             \n",
       "1                                                  0             \n",
       "\n",
       "   Economically_x000D_Backward_x000D_(Including male_x000D_& female)  \\\n",
       "0                                                  0                   \n",
       "1                                                  0                   \n",
       "\n",
       "   Socially_x000D_Challenged_x000D_(SC+ST+OBC_x000D_Including male_x000D_& female)  \\\n",
       "0                                                855                                 \n",
       "1                                                 43                                 \n",
       "\n",
       "   No. of students_x000D_receiving full_x000D_tuition fee_x000D_reimbursement_x000D_from the State_x000D_and Central_x000D_Government  \\\n",
       "0                                                855                                                                                    \n",
       "1                                                 43                                                                                    \n",
       "\n",
       "   No. of students_x000D_receiving full_x000D_tuition fee_x000D_reimbursement_x000D_from Institution_x000D_Funds  \\\n",
       "0                                                  0                                                               \n",
       "1                                                  0                                                               \n",
       "\n",
       "   No. of students_x000D_receiving full_x000D_tuition fee_x000D_reimbursement_x000D_from the Private_x000D_Bodies  \\\n",
       "0                                                  0                                                                \n",
       "1                                                  0                                                                \n",
       "\n",
       "   No. of students_x000D_who are not_x000D_receiving full_x000D_tuition fee_x000D_reimbursement  \n",
       "0                                                  0                                             \n",
       "1                                                  0                                             "
      ]
     },
     "execution_count": 126,
     "metadata": {},
     "output_type": "execute_result"
    }
   ],
   "source": [
    "all_sheets_dict[\"Table_3\"]"
   ]
  },
  {
   "cell_type": "code",
   "execution_count": 127,
   "metadata": {},
   "outputs": [
    {
     "data": {
      "text/plain": [
       "2"
      ]
     },
     "execution_count": 127,
     "metadata": {},
     "output_type": "execute_result"
    }
   ],
   "source": [
    "number_of_programs_offered = len(all_sheets_dict[\"Table_2\"])\n",
    "number_of_programs_offered"
   ]
  },
  {
   "cell_type": "code",
   "execution_count": 129,
   "metadata": {},
   "outputs": [],
   "source": [
    "for i in range(number_of_programs_offered):\n",
    "    keys = all_sheets_dict[\"Table_3\"].keys()\n",
    "    class_name = all_sheets_dict[\"Table_3\"][keys[0]][i]\n",
    "    male_students = int(all_sheets_dict[\"Table_3\"][keys[1]][i])\n",
    "    female_students = int(all_sheets_dict[\"Table_3\"][keys[2]][i])\n",
    "    total_students = int(all_sheets_dict[\"Table_3\"][keys[3]][i])\n",
    "    in_state_students = int(all_sheets_dict[\"Table_3\"][keys[4]][i])\n",
    "    out_state_students = int(all_sheets_dict[\"Table_3\"][keys[5]][i])\n",
    "    out_country_students = int(all_sheets_dict[\"Table_3\"][keys[6]][i])\n",
    "    eb_students = int(all_sheets_dict[\"Table_3\"][keys[7]][i])\n",
    "    schal_students = int(all_sheets_dict[\"Table_3\"][keys[8]][i])\n",
    "    ftrg_students = int(all_sheets_dict[\"Table_3\"][keys[9]][i])\n",
    "    ftri_students = int(all_sheets_dict[\"Table_3\"][keys[10]][i])\n",
    "    ftrp_students = int(all_sheets_dict[\"Table_3\"][keys[11]][i])\n",
    "    ftnr_students = int(all_sheets_dict[\"Table_3\"][keys[12]][i])\n",
    "    name_of_class.append(class_name)\n",
    "    no_of_male_students.append(male_students)\n",
    "    no_of_female_students.append(female_students)\n",
    "    no_of_total_students.append(total_students)\n",
    "    within_state_students.append(in_state_students)\n",
    "    outside_state_students.append(out_state_students)\n",
    "    outside_country_students.append(out_country_students)\n",
    "    economically_backward_students.append(eb_students)\n",
    "    socially_challenged_students.append(schal_students)\n",
    "    full_tuitionfee_reimburse_gov.append(ftrg_students)\n",
    "    full_tuitionfee_reimburse_institution.append(ftri_students)\n",
    "    full_tuitionfee_reimburse_private.append(ftrp_students)\n",
    "    full_tuitionfee_not_reimburse.append(ftnr_students)"
   ]
  },
  {
   "cell_type": "code",
   "execution_count": 130,
   "metadata": {},
   "outputs": [
    {
     "name": "stdout",
     "output_type": "stream",
     "text": [
      "['UG [3 Years_x000D_Program(s)]', 'PG [2 Year_x000D_Program(s)]'] [3558, 145] [1282, 136] [4840, 281] [4840, 281] [0, 0] [0, 0] [0, 0] [855, 43] [855, 43] [0, 0] [0, 0] [0, 0]\n"
     ]
    }
   ],
   "source": [
    "print(name_of_class,no_of_male_students,no_of_female_students,no_of_total_students,\n",
    "      within_state_students,\n",
    "outside_state_students,\n",
    "outside_country_students,\n",
    "economically_backward_students,\n",
    "socially_challenged_students,\n",
    "full_tuitionfee_reimburse_gov,\n",
    "full_tuitionfee_reimburse_institution,\n",
    "full_tuitionfee_reimburse_private,\n",
    "full_tuitionfee_not_reimburse)"
   ]
  },
  {
   "cell_type": "code",
   "execution_count": null,
   "metadata": {},
   "outputs": [],
   "source": []
  },
  {
   "cell_type": "code",
   "execution_count": null,
   "metadata": {},
   "outputs": [],
   "source": []
  }
 ],
 "metadata": {
  "kernelspec": {
   "display_name": "Python 3",
   "language": "python",
   "name": "python3"
  },
  "language_info": {
   "codemirror_mode": {
    "name": "ipython",
    "version": 3
   },
   "file_extension": ".py",
   "mimetype": "text/x-python",
   "name": "python",
   "nbconvert_exporter": "python",
   "pygments_lexer": "ipython3",
   "version": "3.10.12"
  }
 },
 "nbformat": 4,
 "nbformat_minor": 2
}
